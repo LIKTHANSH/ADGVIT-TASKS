{
 "cells": [
  {
   "cell_type": "code",
   "execution_count": 51,
   "id": "bd3fde5a-831f-47ed-acf6-2251a1f4478d",
   "metadata": {},
   "outputs": [],
   "source": [
    "import pandas as pd\n",
    "import numpy as np"
   ]
  },
  {
   "cell_type": "code",
   "execution_count": 52,
   "id": "4ed40f0c-1409-46a7-9fd9-5c8059ea211a",
   "metadata": {},
   "outputs": [],
   "source": [
    "data = pd.read_csv(\"C:/Users/91986/Downloads/ai tasks/matches.csv\")\n"
   ]
  },
  {
   "cell_type": "code",
   "execution_count": 53,
   "id": "ab7054f2-1b73-4515-97f3-7cf2df772b80",
   "metadata": {},
   "outputs": [
    {
     "data": {
      "text/html": [
       "<div>\n",
       "<style scoped>\n",
       "    .dataframe tbody tr th:only-of-type {\n",
       "        vertical-align: middle;\n",
       "    }\n",
       "\n",
       "    .dataframe tbody tr th {\n",
       "        vertical-align: top;\n",
       "    }\n",
       "\n",
       "    .dataframe thead th {\n",
       "        text-align: right;\n",
       "    }\n",
       "</style>\n",
       "<table border=\"1\" class=\"dataframe\">\n",
       "  <thead>\n",
       "    <tr style=\"text-align: right;\">\n",
       "      <th></th>\n",
       "      <th>Unnamed: 0</th>\n",
       "      <th>Season</th>\n",
       "      <th>Date</th>\n",
       "      <th>Home</th>\n",
       "      <th>xG</th>\n",
       "      <th>Home Goals</th>\n",
       "      <th>Away Goals</th>\n",
       "      <th>xG.1</th>\n",
       "      <th>Away</th>\n",
       "      <th>Attendance</th>\n",
       "      <th>Venue</th>\n",
       "    </tr>\n",
       "  </thead>\n",
       "  <tbody>\n",
       "    <tr>\n",
       "      <th>0</th>\n",
       "      <td>0</td>\n",
       "      <td>2023/2024</td>\n",
       "      <td>2023-08-11</td>\n",
       "      <td>Burnley</td>\n",
       "      <td>0.3</td>\n",
       "      <td>0.0</td>\n",
       "      <td>3.0</td>\n",
       "      <td>1.9</td>\n",
       "      <td>Manchester City</td>\n",
       "      <td>21572.0</td>\n",
       "      <td>Turf Moor</td>\n",
       "    </tr>\n",
       "    <tr>\n",
       "      <th>1</th>\n",
       "      <td>1</td>\n",
       "      <td>2023/2024</td>\n",
       "      <td>2023-08-12</td>\n",
       "      <td>Arsenal</td>\n",
       "      <td>0.8</td>\n",
       "      <td>2.0</td>\n",
       "      <td>1.0</td>\n",
       "      <td>1.2</td>\n",
       "      <td>Nott'ham Forest</td>\n",
       "      <td>59984.0</td>\n",
       "      <td>Emirates Stadium</td>\n",
       "    </tr>\n",
       "    <tr>\n",
       "      <th>2</th>\n",
       "      <td>2</td>\n",
       "      <td>2023/2024</td>\n",
       "      <td>2023-08-12</td>\n",
       "      <td>Everton</td>\n",
       "      <td>2.7</td>\n",
       "      <td>0.0</td>\n",
       "      <td>1.0</td>\n",
       "      <td>1.5</td>\n",
       "      <td>Fulham</td>\n",
       "      <td>39940.0</td>\n",
       "      <td>Goodison Park</td>\n",
       "    </tr>\n",
       "    <tr>\n",
       "      <th>3</th>\n",
       "      <td>3</td>\n",
       "      <td>2023/2024</td>\n",
       "      <td>2023-08-12</td>\n",
       "      <td>Sheffield Utd</td>\n",
       "      <td>0.5</td>\n",
       "      <td>0.0</td>\n",
       "      <td>1.0</td>\n",
       "      <td>1.9</td>\n",
       "      <td>Crystal Palace</td>\n",
       "      <td>31194.0</td>\n",
       "      <td>Bramall Lane</td>\n",
       "    </tr>\n",
       "    <tr>\n",
       "      <th>4</th>\n",
       "      <td>4</td>\n",
       "      <td>2023/2024</td>\n",
       "      <td>2023-08-12</td>\n",
       "      <td>Brighton</td>\n",
       "      <td>4.0</td>\n",
       "      <td>4.0</td>\n",
       "      <td>1.0</td>\n",
       "      <td>1.5</td>\n",
       "      <td>Luton Town</td>\n",
       "      <td>31872.0</td>\n",
       "      <td>The American Express Community Stadium</td>\n",
       "    </tr>\n",
       "  </tbody>\n",
       "</table>\n",
       "</div>"
      ],
      "text/plain": [
       "   Unnamed: 0     Season        Date           Home   xG  Home Goals  \\\n",
       "0           0  2023/2024  2023-08-11        Burnley  0.3         0.0   \n",
       "1           1  2023/2024  2023-08-12        Arsenal  0.8         2.0   \n",
       "2           2  2023/2024  2023-08-12        Everton  2.7         0.0   \n",
       "3           3  2023/2024  2023-08-12  Sheffield Utd  0.5         0.0   \n",
       "4           4  2023/2024  2023-08-12       Brighton  4.0         4.0   \n",
       "\n",
       "   Away Goals  xG.1             Away  Attendance  \\\n",
       "0         3.0   1.9  Manchester City     21572.0   \n",
       "1         1.0   1.2  Nott'ham Forest     59984.0   \n",
       "2         1.0   1.5           Fulham     39940.0   \n",
       "3         1.0   1.9   Crystal Palace     31194.0   \n",
       "4         1.0   1.5       Luton Town     31872.0   \n",
       "\n",
       "                                    Venue  \n",
       "0                               Turf Moor  \n",
       "1                        Emirates Stadium  \n",
       "2                           Goodison Park  \n",
       "3                            Bramall Lane  \n",
       "4  The American Express Community Stadium  "
      ]
     },
     "execution_count": 53,
     "metadata": {},
     "output_type": "execute_result"
    }
   ],
   "source": [
    "data.head()\n"
   ]
  },
  {
   "cell_type": "code",
   "execution_count": 54,
   "id": "5ada1811-b7f1-4730-9195-c40b4bc529b9",
   "metadata": {},
   "outputs": [
    {
     "data": {
      "text/html": [
       "<div>\n",
       "<style scoped>\n",
       "    .dataframe tbody tr th:only-of-type {\n",
       "        vertical-align: middle;\n",
       "    }\n",
       "\n",
       "    .dataframe tbody tr th {\n",
       "        vertical-align: top;\n",
       "    }\n",
       "\n",
       "    .dataframe thead th {\n",
       "        text-align: right;\n",
       "    }\n",
       "</style>\n",
       "<table border=\"1\" class=\"dataframe\">\n",
       "  <thead>\n",
       "    <tr style=\"text-align: right;\">\n",
       "      <th></th>\n",
       "      <th>Unnamed: 0</th>\n",
       "      <th>xG</th>\n",
       "      <th>Home Goals</th>\n",
       "      <th>Away Goals</th>\n",
       "      <th>xG.1</th>\n",
       "      <th>Attendance</th>\n",
       "    </tr>\n",
       "  </thead>\n",
       "  <tbody>\n",
       "    <tr>\n",
       "      <th>count</th>\n",
       "      <td>60529.000000</td>\n",
       "      <td>2660.000000</td>\n",
       "      <td>50568.000000</td>\n",
       "      <td>50568.000000</td>\n",
       "      <td>2660.000000</td>\n",
       "      <td>11446.000000</td>\n",
       "    </tr>\n",
       "    <tr>\n",
       "      <th>mean</th>\n",
       "      <td>248.176444</td>\n",
       "      <td>1.504361</td>\n",
       "      <td>1.801100</td>\n",
       "      <td>1.172540</td>\n",
       "      <td>1.228496</td>\n",
       "      <td>33295.807968</td>\n",
       "    </tr>\n",
       "    <tr>\n",
       "      <th>std</th>\n",
       "      <td>149.038937</td>\n",
       "      <td>0.851252</td>\n",
       "      <td>1.464901</td>\n",
       "      <td>1.146355</td>\n",
       "      <td>0.753071</td>\n",
       "      <td>14223.190117</td>\n",
       "    </tr>\n",
       "    <tr>\n",
       "      <th>min</th>\n",
       "      <td>0.000000</td>\n",
       "      <td>0.000000</td>\n",
       "      <td>0.000000</td>\n",
       "      <td>0.000000</td>\n",
       "      <td>0.000000</td>\n",
       "      <td>2000.000000</td>\n",
       "    </tr>\n",
       "    <tr>\n",
       "      <th>25%</th>\n",
       "      <td>121.000000</td>\n",
       "      <td>0.900000</td>\n",
       "      <td>1.000000</td>\n",
       "      <td>0.000000</td>\n",
       "      <td>0.700000</td>\n",
       "      <td>23246.000000</td>\n",
       "    </tr>\n",
       "    <tr>\n",
       "      <th>50%</th>\n",
       "      <td>243.000000</td>\n",
       "      <td>1.400000</td>\n",
       "      <td>2.000000</td>\n",
       "      <td>1.000000</td>\n",
       "      <td>1.100000</td>\n",
       "      <td>31130.000000</td>\n",
       "    </tr>\n",
       "    <tr>\n",
       "      <th>75%</th>\n",
       "      <td>368.000000</td>\n",
       "      <td>2.000000</td>\n",
       "      <td>3.000000</td>\n",
       "      <td>2.000000</td>\n",
       "      <td>1.600000</td>\n",
       "      <td>40162.000000</td>\n",
       "    </tr>\n",
       "    <tr>\n",
       "      <th>max</th>\n",
       "      <td>628.000000</td>\n",
       "      <td>7.000000</td>\n",
       "      <td>12.000000</td>\n",
       "      <td>9.000000</td>\n",
       "      <td>4.600000</td>\n",
       "      <td>83222.000000</td>\n",
       "    </tr>\n",
       "  </tbody>\n",
       "</table>\n",
       "</div>"
      ],
      "text/plain": [
       "         Unnamed: 0           xG    Home Goals    Away Goals         xG.1  \\\n",
       "count  60529.000000  2660.000000  50568.000000  50568.000000  2660.000000   \n",
       "mean     248.176444     1.504361      1.801100      1.172540     1.228496   \n",
       "std      149.038937     0.851252      1.464901      1.146355     0.753071   \n",
       "min        0.000000     0.000000      0.000000      0.000000     0.000000   \n",
       "25%      121.000000     0.900000      1.000000      0.000000     0.700000   \n",
       "50%      243.000000     1.400000      2.000000      1.000000     1.100000   \n",
       "75%      368.000000     2.000000      3.000000      2.000000     1.600000   \n",
       "max      628.000000     7.000000     12.000000      9.000000     4.600000   \n",
       "\n",
       "         Attendance  \n",
       "count  11446.000000  \n",
       "mean   33295.807968  \n",
       "std    14223.190117  \n",
       "min     2000.000000  \n",
       "25%    23246.000000  \n",
       "50%    31130.000000  \n",
       "75%    40162.000000  \n",
       "max    83222.000000  "
      ]
     },
     "execution_count": 54,
     "metadata": {},
     "output_type": "execute_result"
    }
   ],
   "source": [
    "data.describe()\n"
   ]
  },
  {
   "cell_type": "code",
   "execution_count": 55,
   "id": "52e72cde-aa41-48c4-aaa5-b64e0c4f4684",
   "metadata": {},
   "outputs": [
    {
     "data": {
      "text/plain": [
       "(60529, 11)"
      ]
     },
     "execution_count": 55,
     "metadata": {},
     "output_type": "execute_result"
    }
   ],
   "source": [
    "data.shape\n"
   ]
  },
  {
   "cell_type": "code",
   "execution_count": 56,
   "id": "b34dc90c-6118-48ad-b288-549afcd20e81",
   "metadata": {},
   "outputs": [
    {
     "data": {
      "text/plain": [
       "Unnamed: 0     629\n",
       "Season         125\n",
       "Date          9822\n",
       "Home            70\n",
       "xG              51\n",
       "Home Goals      13\n",
       "Away Goals      10\n",
       "xG.1            46\n",
       "Away            70\n",
       "Attendance    9392\n",
       "Venue           77\n",
       "dtype: int64"
      ]
     },
     "execution_count": 56,
     "metadata": {},
     "output_type": "execute_result"
    }
   ],
   "source": [
    "data.nunique()\n"
   ]
  },
  {
   "cell_type": "code",
   "execution_count": 57,
   "id": "64533dd2-5cc8-4b21-8caf-89db92f31506",
   "metadata": {},
   "outputs": [
    {
     "data": {
      "text/plain": [
       "Index(['Unnamed: 0', 'Season', 'Date', 'Home', 'xG', 'Home Goals',\n",
       "       'Away Goals', 'xG.1', 'Away', 'Attendance', 'Venue'],\n",
       "      dtype='object')"
      ]
     },
     "execution_count": 57,
     "metadata": {},
     "output_type": "execute_result"
    }
   ],
   "source": [
    "data.columns"
   ]
  },
  {
   "cell_type": "code",
   "execution_count": 58,
   "id": "b94eea18-09dd-48f0-86ac-68e84be83986",
   "metadata": {},
   "outputs": [],
   "source": [
    "data=data.drop(['Attendance', 'Venue'],axis=1)"
   ]
  },
  {
   "cell_type": "code",
   "execution_count": 59,
   "id": "50bfd990-a1ec-47cd-878e-0abd2878cadf",
   "metadata": {},
   "outputs": [
    {
     "data": {
      "text/plain": [
       "Index(['Unnamed: 0', 'Season', 'Date', 'Home', 'xG', 'Home Goals',\n",
       "       'Away Goals', 'xG.1', 'Away'],\n",
       "      dtype='object')"
      ]
     },
     "execution_count": 59,
     "metadata": {},
     "output_type": "execute_result"
    }
   ],
   "source": [
    "data.columns"
   ]
  },
  {
   "cell_type": "code",
   "execution_count": 60,
   "id": "23e56048-445d-4e22-a930-34e89010196f",
   "metadata": {},
   "outputs": [],
   "source": [
    "x=data[['Season','Home', 'xG', 'Home Goals', 'Away Goals', 'xG.1','Away']].values"
   ]
  },
  {
   "cell_type": "code",
   "execution_count": 61,
   "id": "87667ccd-bea0-4cbe-9fdb-a6664502e96a",
   "metadata": {},
   "outputs": [
    {
     "data": {
      "text/plain": [
       "array([['2023/2024', 'Burnley', 0.3, ..., 3.0, 1.9, 'Manchester City'],\n",
       "       ['2023/2024', 'Arsenal', 0.8, ..., 1.0, 1.2, \"Nott'ham Forest\"],\n",
       "       ['2023/2024', 'Everton', 2.7, ..., 1.0, 1.5, 'Fulham'],\n",
       "       ...,\n",
       "       ['1888/1889', nan, nan, ..., nan, nan, nan],\n",
       "       ['1888/1889', 'Blackburn', nan, ..., 0.0, nan, 'Derby County'],\n",
       "       ['1888/1889', 'Accrington', nan, ..., 0.0, nan, 'Stoke']],\n",
       "      dtype=object)"
      ]
     },
     "execution_count": 61,
     "metadata": {},
     "output_type": "execute_result"
    }
   ],
   "source": [
    "x\n"
   ]
  },
  {
   "cell_type": "code",
   "execution_count": 62,
   "id": "6e82cd3c-28fe-48d1-aa80-1a8095e44616",
   "metadata": {},
   "outputs": [],
   "source": [
    "y=data[['Date']].values"
   ]
  },
  {
   "cell_type": "code",
   "execution_count": 63,
   "id": "adcccfbe-d363-43af-a953-f37e0ffe1861",
   "metadata": {},
   "outputs": [
    {
     "data": {
      "text/plain": [
       "array([['2023-08-11'],\n",
       "       ['2023-08-12'],\n",
       "       ['2023-08-12'],\n",
       "       ...,\n",
       "       [nan],\n",
       "       ['1889-04-14'],\n",
       "       ['1889-04-19']], dtype=object)"
      ]
     },
     "execution_count": 63,
     "metadata": {},
     "output_type": "execute_result"
    }
   ],
   "source": [
    "y"
   ]
  },
  {
   "cell_type": "code",
   "execution_count": 64,
   "id": "b985e4e2-fd4e-4dcf-8b96-702ee7aa096d",
   "metadata": {},
   "outputs": [],
   "source": [
    "from sklearn.impute import SimpleImputer"
   ]
  },
  {
   "cell_type": "code",
   "execution_count": 65,
   "id": "e0951d46-fdea-498c-b430-14155166a1c3",
   "metadata": {},
   "outputs": [],
   "source": [
    "imputer=SimpleImputer(missing_values=np.nan,strategy='mean')"
   ]
  },
  {
   "cell_type": "code",
   "execution_count": 66,
   "id": "ef17ff85-6b7c-4db2-9b84-81a5c33d55f7",
   "metadata": {},
   "outputs": [],
   "source": [
    "imputer=imputer.fit(x[:,2:6])"
   ]
  },
  {
   "cell_type": "code",
   "execution_count": 67,
   "id": "ff9ff1ad-bcb8-4376-8ac3-85a2d30ad7df",
   "metadata": {},
   "outputs": [],
   "source": [
    "x[:,2:6]=imputer.transform(x[:,2:6])"
   ]
  },
  {
   "cell_type": "code",
   "execution_count": 68,
   "id": "5169ed05-931f-4624-8928-797b29efccaf",
   "metadata": {},
   "outputs": [
    {
     "data": {
      "text/plain": [
       "array([['2023/2024', 'Burnley', 0.3, ..., 3.0, 1.9, 'Manchester City'],\n",
       "       ['2023/2024', 'Arsenal', 0.8, ..., 1.0, 1.2, \"Nott'ham Forest\"],\n",
       "       ['2023/2024', 'Everton', 2.7, ..., 1.0, 1.5, 'Fulham'],\n",
       "       ...,\n",
       "       ['1888/1889', nan, 1.504360902255639, ..., 1.1725399462110426,\n",
       "        1.2284962406015039, nan],\n",
       "       ['1888/1889', 'Blackburn', 1.504360902255639, ..., 0.0,\n",
       "        1.2284962406015039, 'Derby County'],\n",
       "       ['1888/1889', 'Accrington', 1.504360902255639, ..., 0.0,\n",
       "        1.2284962406015039, 'Stoke']], dtype=object)"
      ]
     },
     "execution_count": 68,
     "metadata": {},
     "output_type": "execute_result"
    }
   ],
   "source": [
    "x\n"
   ]
  },
  {
   "cell_type": "code",
   "execution_count": 69,
   "id": "1d413ce8-9972-4bcf-8fea-5b6a43df9d22",
   "metadata": {},
   "outputs": [],
   "source": [
    "from sklearn.preprocessing import LabelEncoder"
   ]
  },
  {
   "cell_type": "code",
   "execution_count": 70,
   "id": "1b25fd7c-2964-4b71-9b72-7e948e7c051d",
   "metadata": {},
   "outputs": [],
   "source": [
    "label_encode_x=LabelEncoder()"
   ]
  },
  {
   "cell_type": "code",
   "execution_count": 71,
   "id": "2adeccb4-293d-4304-8bb0-ee9ab3dd1cb3",
   "metadata": {},
   "outputs": [],
   "source": [
    "x[:,0]=label_encode_x.fit_transform(x[:,0])"
   ]
  },
  {
   "cell_type": "code",
   "execution_count": 72,
   "id": "2ffa332e-1ff5-405d-8869-3cf0dfadb583",
   "metadata": {},
   "outputs": [
    {
     "data": {
      "text/plain": [
       "array([[124, 'Burnley', 0.3, ..., 3.0, 1.9, 'Manchester City'],\n",
       "       [124, 'Arsenal', 0.8, ..., 1.0, 1.2, \"Nott'ham Forest\"],\n",
       "       [124, 'Everton', 2.7, ..., 1.0, 1.5, 'Fulham'],\n",
       "       ...,\n",
       "       [0, nan, 1.504360902255639, ..., 1.1725399462110426,\n",
       "        1.2284962406015039, nan],\n",
       "       [0, 'Blackburn', 1.504360902255639, ..., 0.0, 1.2284962406015039,\n",
       "        'Derby County'],\n",
       "       [0, 'Accrington', 1.504360902255639, ..., 0.0, 1.2284962406015039,\n",
       "        'Stoke']], dtype=object)"
      ]
     },
     "execution_count": 72,
     "metadata": {},
     "output_type": "execute_result"
    }
   ],
   "source": [
    "x\n"
   ]
  },
  {
   "cell_type": "code",
   "execution_count": 73,
   "id": "d5d0e5e2-933d-47a0-98ef-12a7eddf5fb0",
   "metadata": {},
   "outputs": [],
   "source": [
    "x[:,1]=label_encode_x.fit_transform(x[:,1])"
   ]
  },
  {
   "cell_type": "code",
   "execution_count": 74,
   "id": "9a7444fb-6dda-4223-a6d3-c9f580b0531c",
   "metadata": {},
   "outputs": [],
   "source": [
    "x[:,6]=label_encode_x.fit_transform(x[:,6])"
   ]
  },
  {
   "cell_type": "code",
   "execution_count": 75,
   "id": "97122426-ba86-439b-82ed-166734110b46",
   "metadata": {},
   "outputs": [
    {
     "data": {
      "text/plain": [
       "array([[124, 15, 0.3, ..., 3.0, 1.9, 37],\n",
       "       [124, 1, 0.8, ..., 1.0, 1.2, 45],\n",
       "       [124, 25, 2.7, ..., 1.0, 1.5, 26],\n",
       "       ...,\n",
       "       [0, 70, 1.504360902255639, ..., 1.1725399462110426,\n",
       "        1.2284962406015039, 70],\n",
       "       [0, 6, 1.504360902255639, ..., 0.0, 1.2284962406015039, 24],\n",
       "       [0, 0, 1.504360902255639, ..., 0.0, 1.2284962406015039, 57]],\n",
       "      dtype=object)"
      ]
     },
     "execution_count": 75,
     "metadata": {},
     "output_type": "execute_result"
    }
   ],
   "source": [
    "x"
   ]
  },
  {
   "cell_type": "code",
   "execution_count": 76,
   "id": "e80c94da-3b4c-4853-a572-540ca2ae272b",
   "metadata": {},
   "outputs": [],
   "source": [
    "from sklearn.preprocessing import OneHotEncoder"
   ]
  },
  {
   "cell_type": "code",
   "execution_count": 77,
   "id": "ac2171b5-671b-4828-ad4e-5e51aecbea7b",
   "metadata": {},
   "outputs": [],
   "source": [
    "onehotencoder=OneHotEncoder()"
   ]
  },
  {
   "cell_type": "code",
   "execution_count": 78,
   "id": "b38b574e-ee17-4045-91bf-1adab808fa90",
   "metadata": {},
   "outputs": [],
   "source": [
    "labelencoder_y=LabelEncoder()"
   ]
  },
  {
   "cell_type": "code",
   "execution_count": 79,
   "id": "617bdadd-25b3-4779-aece-692a0cb45b34",
   "metadata": {},
   "outputs": [
    {
     "name": "stderr",
     "output_type": "stream",
     "text": [
      "C:\\Users\\91986\\AppData\\Local\\Programs\\Python\\Python312\\Lib\\site-packages\\sklearn\\preprocessing\\_label.py:114: DataConversionWarning: A column-vector y was passed when a 1d array was expected. Please change the shape of y to (n_samples, ), for example using ravel().\n",
      "  y = column_or_1d(y, warn=True)\n"
     ]
    }
   ],
   "source": [
    "y=labelencoder_y.fit_transform(y)"
   ]
  },
  {
   "cell_type": "code",
   "execution_count": 80,
   "id": "f8d9fbd6-88b7-47d5-a1f3-0dd2b99d15f7",
   "metadata": {},
   "outputs": [
    {
     "data": {
      "text/plain": [
       "array([9702, 9703, 9703, ..., 9822,   36,   37])"
      ]
     },
     "execution_count": 80,
     "metadata": {},
     "output_type": "execute_result"
    }
   ],
   "source": [
    "y"
   ]
  },
  {
   "cell_type": "code",
   "execution_count": 81,
   "id": "6fcfbe32-cd06-42ac-a19f-93bb5e5016bf",
   "metadata": {},
   "outputs": [],
   "source": [
    "from sklearn.model_selection import train_test_split"
   ]
  },
  {
   "cell_type": "code",
   "execution_count": 82,
   "id": "cccff224-ad7e-4d65-8fcd-7cfa14a28504",
   "metadata": {},
   "outputs": [],
   "source": [
    "x_train,x_test,y_train,y_test=train_test_split(x,y,test_size=0.2,random_state=0)"
   ]
  },
  {
   "cell_type": "code",
   "execution_count": 83,
   "id": "16c17fff-dd04-4bc0-bf88-f06cec0292ed",
   "metadata": {},
   "outputs": [
    {
     "data": {
      "text/plain": [
       "array([[53, 8, 1.504360902255639, ..., 1.0, 1.2284962406015039, 38],\n",
       "       [95, 21, 1.504360902255639, ..., 1.0, 1.2284962406015039, 2],\n",
       "       [122, 64, 0.5, ..., 2.0, 1.6, 13],\n",
       "       ...,\n",
       "       [39, 20, 1.504360902255639, ..., 1.0, 1.2284962406015039, 41],\n",
       "       [37, 37, 1.504360902255639, ..., 2.0, 1.2284962406015039, 49],\n",
       "       [118, 20, 1.5, ..., 0.0, 0.1, 60]], dtype=object)"
      ]
     },
     "execution_count": 83,
     "metadata": {},
     "output_type": "execute_result"
    }
   ],
   "source": [
    "x_train"
   ]
  },
  {
   "cell_type": "code",
   "execution_count": 84,
   "id": "af3f635c-70fa-4348-9928-33e327562774",
   "metadata": {},
   "outputs": [
    {
     "data": {
      "text/plain": [
       "array([[51, 39, 1.504360902255639, ..., 3.0, 1.2284962406015039, 19],\n",
       "       [10, 62, 1.504360902255639, ..., 1.0, 1.2284962406015039, 24],\n",
       "       [51, 63, 1.504360902255639, ..., 4.0, 1.2284962406015039, 7],\n",
       "       ...,\n",
       "       [18, 70, 1.504360902255639, ..., 1.1725399462110426,\n",
       "        1.2284962406015039, 70],\n",
       "       [29, 70, 1.504360902255639, ..., 1.1725399462110426,\n",
       "        1.2284962406015039, 70],\n",
       "       [88, 70, 1.504360902255639, ..., 1.1725399462110426,\n",
       "        1.2284962406015039, 70]], dtype=object)"
      ]
     },
     "execution_count": 84,
     "metadata": {},
     "output_type": "execute_result"
    }
   ],
   "source": [
    "x_test"
   ]
  },
  {
   "cell_type": "code",
   "execution_count": 85,
   "id": "1455a709-9daa-4821-a286-0e580725e8bc",
   "metadata": {},
   "outputs": [
    {
     "data": {
      "text/plain": [
       "array([3323, 6657, 9533, ..., 2467, 2314, 9036])"
      ]
     },
     "execution_count": 85,
     "metadata": {},
     "output_type": "execute_result"
    }
   ],
   "source": [
    "y_train"
   ]
  },
  {
   "cell_type": "code",
   "execution_count": 86,
   "id": "42cb1c87-b378-45d3-9d8b-b833e3d546d8",
   "metadata": {},
   "outputs": [
    {
     "data": {
      "text/plain": [
       "array([3192,  533, 3167, ..., 9822, 9822, 9822])"
      ]
     },
     "execution_count": 86,
     "metadata": {},
     "output_type": "execute_result"
    }
   ],
   "source": [
    "y_test"
   ]
  },
  {
   "cell_type": "code",
   "execution_count": 87,
   "id": "20b88523-d966-435e-86f0-bafc7dd843d1",
   "metadata": {},
   "outputs": [],
   "source": [
    "from sklearn.preprocessing import StandardScaler"
   ]
  },
  {
   "cell_type": "code",
   "execution_count": 88,
   "id": "7597b212-cf58-4dea-ab22-511fed1b0c17",
   "metadata": {},
   "outputs": [],
   "source": [
    "scx=StandardScaler()"
   ]
  },
  {
   "cell_type": "code",
   "execution_count": 89,
   "id": "6c22f2de-0037-4883-aaf4-c080273822f4",
   "metadata": {},
   "outputs": [],
   "source": [
    "x_train=scx.fit_transform(x_train)"
   ]
  },
  {
   "cell_type": "code",
   "execution_count": 90,
   "id": "e808ec3d-60c8-4865-9cba-02a978168c01",
   "metadata": {},
   "outputs": [],
   "source": [
    "x_test=scx.transform(x_test)"
   ]
  },
  {
   "cell_type": "code",
   "execution_count": 91,
   "id": "7bde23ec-9fc8-4c6a-b55c-feb7073cbac2",
   "metadata": {},
   "outputs": [
    {
     "data": {
      "text/plain": [
       "array([[-2.79801087e-01, -1.42354058e+00,  1.14915918e-03, ...,\n",
       "        -1.67621090e-01, -5.03456156e-03, -1.15326854e-01],\n",
       "       [ 9.60567147e-01, -8.55583982e-01,  1.14915918e-03, ...,\n",
       "        -1.67621090e-01, -5.03456156e-03, -1.68960018e+00],\n",
       "       [ 1.75794673e+00,  1.02304167e+00, -5.66056956e+00, ...,\n",
       "         7.84639871e-01,  2.31028587e+00, -1.20857222e+00],\n",
       "       ...,\n",
       "       [-6.93257165e-01, -8.99272951e-01,  1.14915918e-03, ...,\n",
       "        -1.67621090e-01, -5.03456156e-03,  1.58625900e-02],\n",
       "       [-7.52322319e-01, -1.56560483e-01,  1.14915918e-03, ...,\n",
       "         7.84639871e-01, -5.03456156e-03,  3.65701108e-01],\n",
       "       [ 1.63981642e+00, -8.99272951e-01, -2.34338387e-02, ...,\n",
       "        -1.11988205e+00, -7.03815423e+00,  8.46729070e-01]])"
      ]
     },
     "execution_count": 91,
     "metadata": {},
     "output_type": "execute_result"
    }
   ],
   "source": [
    "x_train"
   ]
  },
  {
   "cell_type": "code",
   "execution_count": 92,
   "id": "577aed3d-4938-45f9-8832-126e1a2c8e1b",
   "metadata": {},
   "outputs": [
    {
     "data": {
      "text/plain": [
       "array([[-3.38866241e-01, -6.91825461e-02,  1.14915918e-03, ...,\n",
       "         1.73690083e+00, -5.03456156e-03, -9.46193334e-01],\n",
       "       [-1.54970190e+00,  9.35663734e-01,  1.14915918e-03, ...,\n",
       "        -1.67621090e-01, -5.03456156e-03, -7.27544261e-01],\n",
       "       [-3.38866241e-01,  9.79352702e-01,  1.14915918e-03, ...,\n",
       "         2.68916179e+00, -5.03456156e-03, -1.47095111e+00],\n",
       "       ...,\n",
       "       [-1.31344128e+00,  1.28517548e+00,  1.14915918e-03, ...,\n",
       "        -3.31803518e-03, -5.03456156e-03,  1.28402722e+00],\n",
       "       [-9.88582935e-01,  1.28517548e+00,  1.14915918e-03, ...,\n",
       "        -3.31803518e-03, -5.03456156e-03,  1.28402722e+00],\n",
       "       [ 7.53839108e-01,  1.28517548e+00,  1.14915918e-03, ...,\n",
       "        -3.31803518e-03, -5.03456156e-03,  1.28402722e+00]])"
      ]
     },
     "execution_count": 92,
     "metadata": {},
     "output_type": "execute_result"
    }
   ],
   "source": [
    "x_test"
   ]
  },
  {
   "cell_type": "code",
   "execution_count": 93,
   "id": "3c637330-1c49-43da-88ad-2a09673b71e2",
   "metadata": {},
   "outputs": [],
   "source": [
    "#TASK 3"
   ]
  },
  {
   "cell_type": "code",
   "execution_count": 94,
   "id": "759b6e5c-ab84-4f08-88ae-a84450d40887",
   "metadata": {},
   "outputs": [
    {
     "name": "stdout",
     "output_type": "stream",
     "text": [
      "RMSE: 21.10405582209896\n",
      "R^2 Score: 0.9999545812606812\n"
     ]
    }
   ],
   "source": [
    "from sklearn.model_selection import train_test_split\n",
    "from sklearn.metrics import mean_squared_error, r2_score\n",
    "import xgboost as xgb\n",
    "\n",
    "# Train model\n",
    "model = xgb.XGBRegressor(objective ='reg:squarederror', n_estimators=100, learning_rate=0.1, max_depth=5, random_state=42)\n",
    "model.fit(x_train, y_train)\n",
    "\n",
    "# Evaluate model\n",
    "y_pred = model.predict(x_test)\n",
    "mse = mean_squared_error(y_test, y_pred)\n",
    "rmse = np.sqrt(mse)\n",
    "r2 = r2_score(y_test, y_pred)\n",
    "\n",
    "print(f\"RMSE: {rmse}\")\n",
    "print(f\"R^2 Score: {r2}\")\n"
   ]
  },
  {
   "cell_type": "code",
   "execution_count": null,
   "id": "70fee4db-e982-498e-8d18-6969f2a213e7",
   "metadata": {},
   "outputs": [],
   "source": []
  }
 ],
 "metadata": {
  "kernelspec": {
   "display_name": "Python 3 (ipykernel)",
   "language": "python",
   "name": "python3"
  },
  "language_info": {
   "codemirror_mode": {
    "name": "ipython",
    "version": 3
   },
   "file_extension": ".py",
   "mimetype": "text/x-python",
   "name": "python",
   "nbconvert_exporter": "python",
   "pygments_lexer": "ipython3",
   "version": "3.12.4"
  }
 },
 "nbformat": 4,
 "nbformat_minor": 5
}
